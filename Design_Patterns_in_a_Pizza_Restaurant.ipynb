{
  "nbformat": 4,
  "nbformat_minor": 0,
  "metadata": {
    "colab": {
      "provenance": []
    },
    "kernelspec": {
      "name": "python3",
      "display_name": "Python 3"
    },
    "language_info": {
      "name": "python"
    }
  },
  "cells": [
    {
      "cell_type": "markdown",
      "source": [
        "1. Factory Pattern:\n",
        "\n",
        "    SOLID Principle Addressed: Open/Closed Principle\n",
        "    Explanation: The PizzaFactory class is responsible for creating pizza objects without directly invoking constructors, making it open for extension  but closed for modification . By following the Factory Pattern, the system can accommodate future pizza types without changing the existing code.\n",
        "\n",
        "2. Decorator Pattern (ToppingDecorator):\n",
        "\n",
        "    SOLID Principle Addressed: Open/Closed Principle\n",
        "    Explanation: The ToppingDecorator class allows the dynamic addition of toppings to pizzas without modifying the existing pizza classes. This aligns with the OCP, as new toppings can be added by creating new decorator subclasses rather than altering the base pizza class. This pattern also facilitates easy extensions of toppings without altering core pizza behavior.\n",
        "\n",
        "3. Singleton Pattern (InventoryManager):\n",
        "\n",
        "    SOLID Principle Addressed: Single Responsibility Principle\n",
        "    Explanation: The InventoryManager class uses the Singleton Pattern to ensure that only one instance of the inventory manager exists throughout the system. Its responsibility is solely to manage inventory, keeping it simple and in line with SRP. By ensuring only one instance of the class, the system prevents any unnecessary complexity and ensures that the inventory management logic remains centralized and consistent.\n",
        "\n",
        "4. Strategy Pattern (PaymentMethod and Subclasses):\n",
        "\n",
        "    SOLID Principle Addressed: Dependency Inversion Principle\n",
        "    Explanation: The PaymentMethod interface defines a strategy for payment, and different payment methods  implement this interface. The system depends on the PaymentMethod abstraction rather than concrete payment classes. This ensures that high-level modules depend on abstractions rather than concrete implementations, adhering to the DIP and allowing for easy addition of new payment methods without modifying existing code.\n",
        "\n",
        "5. **General SOLID Principles Addressed:**\n",
        "\n",
        "    Single Responsibility Principle : Each class in the design has a single responsibility .\n",
        "\n",
        "    Liskov Substitution Principle : Subtypes can be substituted for the base type ToppingDecorator without altering the correctness of the program.\n",
        "\n",
        "    Interface Segregation Principle: The PaymentMethod interface is designed in a way that allows different classes to implement only the methods they need, avoiding \"fat\" interfaces.\n",
        "    \n",
        "    Dependency Inversion Principle : High-level modules like payment processing depend on the PaymentMethod abstraction, ensuring low-level details are encapsulated."
      ],
      "metadata": {
        "id": "5cbUjVaKr4mN"
      }
    },
    {
      "cell_type": "markdown",
      "source": [
        "## Design Patterns Used\n",
        "\n",
        "### 1. **Factory Pattern**\n",
        "- The factory method is used to create different pizza types without exposing the creation logic to the client."
      ],
      "metadata": {
        "id": "R5VwcCMANlPC"
      }
    },
    {
      "cell_type": "code",
      "execution_count": 22,
      "metadata": {
        "id": "gKshiiLTEHZC"
      },
      "outputs": [],
      "source": [
        "# Base Pizza class\n",
        "class Pizza:\n",
        "    def get_description(self):\n",
        "       pass\n",
        "\n",
        "    def calculate_cost(self):\n",
        "        pass"
      ]
    },
    {
      "cell_type": "code",
      "source": [
        "# Margherita Pizza class\n",
        "class MargheritaPizza(Pizza):\n",
        "    def get_description(self):\n",
        "        return \"Margherita Pizza\"\n",
        "\n",
        "    def calculate_cost(self):\n",
        "        return 5.0\n",
        "\n",
        "# Pepperoni Pizza class\n",
        "class PepperoniPizza(Pizza):\n",
        "    def get_description(self):\n",
        "        return \"Pepperoni Pizza\"\n",
        "\n",
        "    def calculate_cost(self):\n",
        "        return 6.0"
      ],
      "metadata": {
        "id": "JYnglJDBEmRo"
      },
      "execution_count": 23,
      "outputs": []
    },
    {
      "cell_type": "code",
      "source": [
        "class pizza_type:\n",
        "    def create_pizza(self, pizza_type: str) -> Pizza:\n",
        "        if pizza_type == \"Margherita\":\n",
        "            return MargheritaPizza()\n",
        "        elif pizza_type == \"Pepperoni\":\n",
        "            return PepperoniPizza()\n",
        "        else:\n",
        "            raise ValueError(\"Unknown pizza type!\")"
      ],
      "metadata": {
        "id": "z__Tc_H0E0f1"
      },
      "execution_count": 24,
      "outputs": []
    },
    {
      "cell_type": "markdown",
      "source": [
        "### 2. **Decorator Pattern**\n",
        "- Toppings are added to the pizza using decorators, allowing dynamic modifications to the pizza without changing its structure.\n"
      ],
      "metadata": {
        "id": "AwqIvonkkfEc"
      }
    },
    {
      "cell_type": "code",
      "source": [
        "# Base Decorator class for Toppings\n",
        "class ToppingDecorator(Pizza):\n",
        "    def __init__(self, pizza: Pizza):\n",
        "        self._pizza = pizza\n",
        "\n",
        "    def get_description(self):\n",
        "        return self._pizza.get_description()\n",
        "\n",
        "    def calculate_cost(self):\n",
        "        return self._pizza.calculate_cost()"
      ],
      "metadata": {
        "id": "DDhKViHOFJee"
      },
      "execution_count": 25,
      "outputs": []
    },
    {
      "cell_type": "code",
      "source": [
        "# Cheese Topping Decorator\n",
        "class CheeseTopping(ToppingDecorator):\n",
        "    def get_description(self):\n",
        "        return self._pizza.get_description() + \", Cheese\"\n",
        "\n",
        "    def calculate_cost(self):\n",
        "        return self._pizza.calculate_cost() + 1.0"
      ],
      "metadata": {
        "id": "S-TMTDu0FWz4"
      },
      "execution_count": 26,
      "outputs": []
    },
    {
      "cell_type": "code",
      "source": [
        "# Olives Topping Decorator\n",
        "class OlivesTopping(ToppingDecorator):\n",
        "    def get_description(self):\n",
        "        return self._pizza.get_description() + \", Olives\"\n",
        "\n",
        "    def calculate_cost(self):\n",
        "        return self._pizza.calculate_cost() + 0.5"
      ],
      "metadata": {
        "id": "zjS9CuSSFhLv"
      },
      "execution_count": 27,
      "outputs": []
    },
    {
      "cell_type": "code",
      "source": [
        "# Mushrooms Topping Decorator\n",
        "class MushroomsTopping(ToppingDecorator):\n",
        "    def get_description(self):\n",
        "        return self._pizza.get_description() + \", Mushrooms\"\n",
        "\n",
        "    def calculate_cost(self):\n",
        "        return self._pizza.calculate_cost() + 0.7"
      ],
      "metadata": {
        "id": "5NS_t2RpFjxR"
      },
      "execution_count": 28,
      "outputs": []
    },
    {
      "cell_type": "markdown",
      "source": [
        "### 3. **Singleton Pattern**\n",
        "- The  InventoryManager  ensures that only one instance exists, managing inventory effectively.\n",
        "\n"
      ],
      "metadata": {
        "id": "ro6IcPuvkklZ"
      }
    },
    {
      "cell_type": "code",
      "source": [
        "# Inventory Manager Singleton\n",
        "class InventoryManager:\n",
        "    _instance = None\n",
        "\n",
        "    def __new__(cls):\n",
        "        if cls._instance is None:\n",
        "            cls._instance = super(InventoryManager, cls).__new__(cls)\n",
        "        return cls._instance\n",
        "\n",
        "    def check_inventory(self, item: str):\n",
        "        inventory = {\"Cheese\": 10, \"Olives\": 5, \"Mushrooms\": 3}\n",
        "        return inventory.get(item, 0) > 0"
      ],
      "metadata": {
        "id": "ak7kRrpMFnP_"
      },
      "execution_count": 29,
      "outputs": []
    },
    {
      "cell_type": "markdown",
      "source": [
        "### 4. **Strategy Pattern**\n",
        "- Payment strategies allow for flexible payment methods such as PayPal and Credit Card."
      ],
      "metadata": {
        "id": "X1N560M_k6lk"
      }
    },
    {
      "cell_type": "code",
      "source": [
        "# Payment Method Strategy Base class\n",
        "class PaymentMethod:\n",
        "    def pay(self, amount: float):\n",
        "        pass\n",
        "\n",
        "# PayPal Payment method\n",
        "class PayPalPayment(PaymentMethod):\n",
        "    def pay(self, amount: float):\n",
        "        print(f\"Paid {amount} using PayPal\")\n",
        "\n",
        "# Credit Card Payment method\n",
        "class CreditCardPayment(PaymentMethod):\n",
        "    def pay(self, amount: float):\n",
        "        print(f\"Paid {amount} using Credit Card\")"
      ],
      "metadata": {
        "id": "VXfNF722k1mF"
      },
      "execution_count": 30,
      "outputs": []
    },
    {
      "cell_type": "code",
      "source": [
        "def main():\n",
        "    # what are you need to add on your Pizza\n",
        "    factory = pizza_type()\n",
        "    pizza = factory.create_pizza(\"Margherita\")\n",
        "    pizza = CheeseTopping(pizza)\n",
        "    pizza = OlivesTopping(pizza)\n",
        "\n",
        "    # Display description of pizza  and total cost\n",
        "    print(\"Description:\", pizza.get_description())\n",
        "    print(\"Total cost:\", pizza.calculate_cost())\n",
        "\n",
        "    #  before payment Check Inventory\n",
        "    inventory_manager = InventoryManager()\n",
        "    if inventory_manager.check_inventory(\"Cheese\"):\n",
        "        print(\"Cheese is available in inventory.\")\n",
        "    # Process payment\n",
        "    payment_method = PayPalPayment()\n",
        "    payment_method.pay(pizza.calculate_cost())\n",
        "\n",
        "if __name__ == \"__main__\":\n",
        "    main()\n"
      ],
      "metadata": {
        "colab": {
          "base_uri": "https://localhost:8080/"
        },
        "id": "bj5f4SOyF1oC",
        "outputId": "aa184748-faea-43e8-81dc-640d842d998b"
      },
      "execution_count": 33,
      "outputs": [
        {
          "output_type": "stream",
          "name": "stdout",
          "text": [
            "Description: Margherita Pizza, Cheese, Olives\n",
            "Total cost: 6.5\n",
            "Cheese is available in inventory.\n",
            "Paid 6.5 using PayPal\n"
          ]
        }
      ]
    },
    {
      "cell_type": "markdown",
      "source": [
        "## Concept of Overengineering\n",
        "\n",
        "Overengineering, or over-engineering, is the act of designing a product or providing a solution to a problem that is complicated in a way that provides no value or could have been designed to be simpler.\n",
        "### Example of Overengineering:\n",
        "```python\n",
        "# Overcomplicated\n",
        "class ToppingDecorator(Pizza):\n",
        "    def __init__(self, pizza: Pizza):\n",
        "        self._pizza = pizza\n",
        "\n",
        "    def get_description(self):\n",
        "        return self._pizza.get_description()\n",
        "\n",
        "    def calculate_cost(self):\n",
        "        return self._pizza.calculate_cost()\n",
        "\n",
        "class CheeseTopping(ToppingDecorator):\n",
        "    def get_description(self):\n",
        "        return self._pizza.get_description() + \", Cheese\"\n",
        "\n",
        "    def calculate_cost(self):\n",
        "        return self._pizza.calculate_cost() + 1.0\n"
      ],
      "metadata": {
        "id": "_S1JHIeaoTgA"
      }
    }
  ]
}